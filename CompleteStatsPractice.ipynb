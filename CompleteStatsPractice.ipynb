{
 "cells": [
  {
   "cell_type": "code",
   "execution_count": 4,
   "metadata": {},
   "outputs": [],
   "source": [
    "import pandas as pd\n",
    "import numpy as np\n",
    "import matplotlib.pyplot as plt\n",
    "import scipy.stats as sc\n",
    "import seaborn as sns"
   ]
  },
  {
   "cell_type": "code",
   "execution_count": 2,
   "metadata": {},
   "outputs": [
    {
     "name": "stdout",
     "output_type": "stream",
     "text": [
      "    product_id product_name    category  units_sold sales_date\n",
      "0            1     product1        Home          25 2024-01-01\n",
      "1            2     product2      Sports          15 2024-01-02\n",
      "2            3     product3  Electronic          17 2024-01-03\n",
      "3            4     product4        Home          19 2024-01-04\n",
      "4            5     product5        Home          21 2024-01-05\n",
      "5            6     product6      Sports          17 2024-01-06\n",
      "6            7     product7  Electronic          19 2024-01-07\n",
      "7            8     product8  Electronic          16 2024-01-08\n",
      "8            9     product9        Home          21 2024-01-09\n",
      "9           10    product10    Clothing          21 2024-01-10\n",
      "10          11    product11        Home          17 2024-01-11\n",
      "11          12    product12        Home          22 2024-01-12\n",
      "12          13    product13        Home          14 2024-01-13\n",
      "13          14    product14        Home          17 2024-01-14\n",
      "14          15    product15      Sports          17 2024-01-15\n",
      "15          16    product16  Electronic          21 2024-01-16\n",
      "16          17    product17      Sports          21 2024-01-17\n",
      "17          18    product18      Sports          13 2024-01-18\n",
      "18          19    product19      Sports          18 2024-01-19\n",
      "19          20    product20        Home          25 2024-01-20\n"
     ]
    }
   ],
   "source": [
    "\n",
    "np.random.seed(42)  # random num will be generated\n",
    "#Create a  Dataset\n",
    "data={'product_id':range(1,21),\n",
    "      'product_name':[f'product{i}' for i in range(1,21)],\n",
    "      'category':np.random.choice(['Electronic','Clothing','Home','Sports'],20),\n",
    "      'units_sold':np.random.poisson(lam=20,size=20),\n",
    "      'sales_date':pd.date_range(start='2024-01-01',periods=20,freq='D')\n",
    "      }\n",
    "#print(data)\n",
    "sales_data=pd.DataFrame(data)\n",
    "print(sales_data)\n",
    "    \n",
    "    \n",
    "\n"
   ]
  },
  {
   "cell_type": "code",
   "execution_count": 26,
   "metadata": {},
   "outputs": [],
   "source": [
    "sales_data.to_csv(r\"C:\\Users\\91807\\VSCodeProjects\\PythonPractice\\3.STATISTICS\\Sales1.csv\",index=False)"
   ]
  },
  {
   "cell_type": "code",
   "execution_count": 3,
   "metadata": {},
   "outputs": [
    {
     "name": "stdout",
     "output_type": "stream",
     "text": [
      "Descriptive Stats for Units Sold:\n",
      "count    20.000000\n",
      "mean     18.800000\n",
      "std       3.302312\n",
      "min      13.000000\n",
      "25%      17.000000\n",
      "50%      18.500000\n",
      "75%      21.000000\n",
      "max      25.000000\n",
      "Name: units_sold, dtype: float64\n",
      "\n",
      "Statistical Analysis \n",
      "Mean of Units Sold: 18.8\n",
      "mode of Units Sold: 17\n",
      "Median of units sold: 18.5\n",
      "Standard Deviation of Units Sold: 3.302311789927586\n",
      "\n",
      " product_id               int64\n",
      "product_name            object\n",
      "category                object\n",
      "units_sold               int32\n",
      "sales_date      datetime64[ns]\n",
      "dtype: object\n",
      "\n",
      "      category  sum       mean       std\n",
      "0    Clothing   21  21.000000       NaN\n",
      "1  Electronic   73  18.250000  2.217356\n",
      "2        Home  181  20.111111  3.723051\n",
      "3      Sports  101  16.833333  2.714160\n"
     ]
    }
   ],
   "source": [
    "#Descriptive Stats\n",
    "desc_stats=sales_data['units_sold'].describe()\n",
    "print(\"Descriptive Stats for Units Sold:\")\n",
    "print(desc_stats)\n",
    "mean_sales=sales_data['units_sold'].mean()\n",
    "median_sales=sales_data['units_sold'].median()\n",
    "mode_sales=sales_data['units_sold'].mode()[0]\n",
    "variance_sales=sales_data['units_sold'].var()\n",
    "std_sales=sales_data['units_sold'].std()\n",
    "\n",
    "print('\\nStatistical Analysis ')\n",
    "print(f'Mean of Units Sold: {mean_sales}')\n",
    "print(f'mode of Units Sold: {mode_sales}')\n",
    "print(f'Median of units sold: {median_sales}')\n",
    "print(f'Standard Deviation of Units Sold: {std_sales}')\n",
    "\n",
    "print('\\n',sales_data.dtypes)\n",
    "\n",
    "category_stats=sales_data.groupby('category')['units_sold'].agg(['sum','mean','std']).reset_index()\n",
    "print('\\n',category_stats)"
   ]
  },
  {
   "cell_type": "code",
   "execution_count": 4,
   "metadata": {},
   "outputs": [
    {
     "name": "stdout",
     "output_type": "stream",
     "text": [
      "Count:  20\n",
      "sum:  376\n",
      "Avg:  18.8\n",
      "Average is :  18.8\n",
      "Variance Is:  9.360000000000003\n",
      "Standard Deviation is:  3.0594117081556713\n"
     ]
    }
   ],
   "source": [
    "print('Count: ',sales_data['units_sold'].count())\n",
    "print('sum: ',sales_data['units_sold'].sum())\n",
    "print('Avg: ',sales_data['units_sold'].mean())\n",
    "# To find Mean Manually\n",
    "sum=0\n",
    "for i in sales_data['units_sold']:\n",
    "    sum=sum+i\n",
    "avg=sum / sales_data['units_sold'].count()\n",
    "print('Average is : ',avg)\n",
    "\n",
    "#to find variance and Standard Deviation manually\n",
    "var1=0\n",
    "for i in sales_data['units_sold']:\n",
    "    var1=var1 + np.square(i-avg)\n",
    "var2=var1/sales_data['units_sold'].count()-1\n",
    "print('Variance Is: ',var2)\n",
    "std1=np.sqrt(var2)\n",
    "print('Standard Deviation is: ',std1)\n",
    "\n",
    "\n",
    "    "
   ]
  },
  {
   "cell_type": "markdown",
   "metadata": {},
   "source": [
    ")"
   ]
  },
  {
   "cell_type": "code",
   "execution_count": 5,
   "metadata": {},
   "outputs": [
    {
     "name": "stdout",
     "output_type": "stream",
     "text": [
      "Auto Skew:  0.22563639572360109\n",
      "Cube: 150.47999999999962,Square : 207.20000000000007\n",
      "Manual Skew:  0.20892699685307795\n"
     ]
    }
   ],
   "source": [
    "skewness=sc.skew(sales_data['units_sold'])\n",
    "print('Auto Skew: ',skewness)\n",
    "#Skewness Manually\n",
    "sk1=0\n",
    "sk2=0\n",
    "for i in sales_data['units_sold']:\n",
    "    sk1=sk1 + ((i-avg) ** 3 )\n",
    "    sk2=sk2+np.square(i-avg)\n",
    "\n",
    "print(f'Cube: {sk1},Square : {sk2}')\n",
    "skewness1= (1/20*sk1)/(np.sqrt(1/19*sk2))**3\n",
    "print('Manual Skew: ',skewness1)\n",
    "\n",
    "\n",
    "    \n",
    "    "
   ]
  },
  {
   "cell_type": "code",
   "execution_count": 7,
   "metadata": {},
   "outputs": [
    {
     "name": "stdout",
     "output_type": "stream",
     "text": [
      "\n",
      " Confidence Interval of Mean of Unit Sold: \n",
      "(np.float64(17.254470507823573), np.float64(20.34552949217643))\n"
     ]
    }
   ],
   "source": [
    "#Inferential Statistics\n",
    "confidnce_level=0.95\n",
    "degrees_freedom=len(data['units_sold'])-1  # Sample n-1\n",
    "\n",
    "sample_mean=mean_sales\n",
    "sample_standard_error=std_sales/np.sqrt(len(data['units_sold']))\n",
    "t_score=sc.t.ppf((1+confidnce_level)/2,degrees_freedom)\n",
    "margin_error=t_score*sample_standard_error\n",
    "confidnce_level=(sample_mean-margin_error,sample_mean+margin_error)\n",
    "print(\"\\n Confidence Interval of Mean of Unit Sold: \")\n",
    "print(confidnce_level)\n",
    "\n"
   ]
  },
  {
   "cell_type": "code",
   "execution_count": 8,
   "metadata": {},
   "outputs": [
    {
     "name": "stdout",
     "output_type": "stream",
     "text": [
      "\n",
      " Hypothis Testing(t-test):\n",
      "T-statisstatic:-1.6250928099424466,p_value:0.12061572226781002\n",
      "Accept null hypothesis\n"
     ]
    }
   ],
   "source": [
    "t_statisstics,p_value=sc.ttest_1samp(data['units_sold'],20)\n",
    "print(\"\\n Hypothis Testing(t-test):\")\n",
    "print(f\"T-statisstatic:{t_statisstics},p_value:{p_value}\")\n",
    "if p_value < 0.05:\n",
    "    print(\"Reject null Hypothesis\")\n",
    "else:\n",
    "    print(\"Accept null hypothesis\")\n",
    "    "
   ]
  },
  {
   "cell_type": "code",
   "execution_count": 9,
   "metadata": {},
   "outputs": [
    {
     "data": {
      "image/png": "[encoded data removed]",
      "text/plain": [
       "<Figure size 1000x600 with 1 Axes>"
      ]
     },
     "metadata": {},
     "output_type": "display_data"
    }
   ],
   "source": [
    "#Visualization\n",
    "sns.set_style(style='whitegrid')\n",
    "plt.figure(figsize=(10,6))\n",
    "sns.histplot(data['units_sold'],bins=10,kde=True)\n",
    "plt.title('Distribution of units sold')\n",
    "plt.xlabel('units of sold')\n",
    "plt.ylabel('Frequency')\n",
    "plt.axvline(mean_sales,color='red',linestyle='--',label='Mean')\n",
    "plt.axvline(median_sales,color='blue',linestyle='--',label='Median')\n",
    "plt.axvline(mode_sales,color='green',linestyle='--',label='Mode')\n",
    "plt.legend()\n",
    "plt.show()\n",
    "\n"
   ]
  }
 ],
 "metadata": {
  "kernelspec": {
   "display_name": ".venv",
   "language": "python",
   "name": "python3"
  },
  "language_info": {
   "codemirror_mode": {
    "name": "ipython",
    "version": 3
   },
   "file_extension": ".py",
   "mimetype": "text/x-python",
   "name": "python",
   "nbconvert_exporter": "python",
   "pygments_lexer": "ipython3",
   "version": "3.9.13"
  }
 },
 "nbformat": 4,
 "nbformat_minor": 2
}
